{
 "cells": [
  {
   "cell_type": "code",
   "execution_count": 1,
   "id": "6bea8b4f",
   "metadata": {},
   "outputs": [],
   "source": [
    "from qiskit import QuantumCircuit, QuantumRegister, ClassicalRegister\n",
    "from qiskit_aer import AerSimulator\n",
    "from math import gcd, log2, pi\n",
    "from fractions import Fraction\n",
    "from random import randint"
   ]
  },
  {
   "cell_type": "code",
   "execution_count": 2,
   "id": "9d526010",
   "metadata": {},
   "outputs": [],
   "source": [
    "# Define a function to perform Quantum Fourier Transform\n",
    "def qft(circuit, qubits):\n",
    "    n= len(qubits)\n",
    "\n",
    "    # Perform Hadamard and controlled phase rotations\n",
    "    for i in range(n):\n",
    "        circuit.h(qubits[i])\n",
    "        for k in range(i+1, n):\n",
    "            circuit.cp(pi/(2**(k - i)), qubits[k], qubits[i])\n",
    "\n",
    "    # Reverse the order of the qubits\n",
    "    for i in range(n//2):\n",
    "        circuit.swap(qubits[i], qubits[n - i - 1])"
   ]
  },
  {
   "cell_type": "code",
   "execution_count": 3,
   "id": "34654c9f",
   "metadata": {},
   "outputs": [],
   "source": [
    "# Define a function to perform Inverse Quantum Fourier Transform\n",
    "def iqft(circuit, qubits):\n",
    "    n= len(qubits)\n",
    "\n",
    "    # Perform the inverse of the operations applied during the Quantum Fourier Transform (in reverse order)\n",
    "    for i in range(n//2):\n",
    "        circuit.swap(qubits[i], qubits[n - i - 1])\n",
    "\n",
    "    for i in reversed(range(n)):\n",
    "        for k in reversed(range(i)):\n",
    "            circuit.cp(-pi/(2**(i - k)), qubits[k], qubits[i])\n",
    "        circuit.h(qubits[i])"
   ]
  },
  {
   "cell_type": "code",
   "execution_count": 4,
   "id": "721e2c9b",
   "metadata": {},
   "outputs": [],
   "source": [
    "# Define a function to perform phase estimation for finding the order of a mod N in Shor's Algorithm\n",
    "def phase_estimation(circuit, control, target, a, N):\n",
    "    n= len(control)\n",
    "\n",
    "    circuit.h(control)\n",
    "    circuit.x(target[0])\n",
    "\n",
    "    mod_powers = [(a**(2**j))%N for j in range(n)] # precompute a^(2^j) mod N for all control qubits\n",
    "\n",
    "    # Apply 'simulated' controlled modular multiplications\n",
    "    for j in range(n):\n",
    "        i= int(log2(mod_powers[j]))\n",
    "        circuit.cx(control[j], target[i])\n",
    "\n",
    "    iqft(circuit, control)"
   ]
  },
  {
   "cell_type": "code",
   "execution_count": 5,
   "id": "7a9a2c10",
   "metadata": {},
   "outputs": [
    {
     "name": "stdout",
     "output_type": "stream",
     "text": [
      "The Prime Factors of 33 are 11 and 3\n"
     ]
    }
   ],
   "source": [
    "# Factor 33 using Shor's Algorithm\n",
    "flag= False\n",
    "\n",
    "while flag is False: # repeat until non- trivial factors are found\n",
    "    a= randint(2, 32)\n",
    "    if gcd(a, 33)!= 1:\n",
    "        continue\n",
    "\n",
    "    control= QuantumRegister(12) # 12 qubits for a high precision\n",
    "    target= QuantumRegister(6) # 6 qubits to represent all numbers from 0 to 32\n",
    "    c= ClassicalRegister(12)\n",
    "    circuit= QuantumCircuit(control, target, c)\n",
    "\n",
    "    phase_estimation(circuit, control, target, a, 33)\n",
    "    circuit.measure(control, c)\n",
    "\n",
    "    counts= AerSimulator().run(circuit, shots=1000).result().get_counts()\n",
    "    measured= max(counts, key=counts.get)\n",
    "    phase= int(measured, 2)/(2**12) # convert the binary string to a phase value\n",
    "    r= Fraction(phase).limit_denominator(33).denominator # use continued fractions to estimate r from the measured phase\n",
    "\n",
    "    if r%2== 1: # retry if r is odd\n",
    "        continue\n",
    "\n",
    "    p= gcd(pow(a, r//2)- 1, 33)\n",
    "    q= gcd(pow(a, r//2)+ 1, 33)\n",
    "\n",
    "    if p== 1 or q== 1 or p== 33 or q== 33: # retry if the factors are non- trivial\n",
    "        continue\n",
    "\n",
    "    print(f\"The Prime Factors of 33 are {p} and {q}\")\n",
    "    flag= True\n"
   ]
  }
 ],
 "metadata": {
  "kernelspec": {
   "display_name": "Python 3",
   "language": "python",
   "name": "python3"
  },
  "language_info": {
   "codemirror_mode": {
    "name": "ipython",
    "version": 3
   },
   "file_extension": ".py",
   "mimetype": "text/x-python",
   "name": "python",
   "nbconvert_exporter": "python",
   "pygments_lexer": "ipython3",
   "version": "3.13.3"
  }
 },
 "nbformat": 4,
 "nbformat_minor": 5
}
