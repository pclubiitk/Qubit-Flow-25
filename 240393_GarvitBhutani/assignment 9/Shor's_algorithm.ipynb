{
  "cells": [
    {
      "cell_type": "code",
      "source": [
        "!pip install -q qiskit\n",
        "!pip install -q qiskit_aer\n",
        "!pip install pylatexenc"
      ],
      "metadata": {
        "colab": {
          "base_uri": "https://localhost:8080/"
        },
        "id": "UVjolzJORH3T",
        "outputId": "e3307cd9-9264-4edf-9f56-85a18f495859"
      },
      "id": "UVjolzJORH3T",
      "execution_count": 2,
      "outputs": [
        {
          "output_type": "stream",
          "name": "stdout",
          "text": [
            "Requirement already satisfied: pylatexenc in /usr/local/lib/python3.11/dist-packages (2.10)\n"
          ]
        }
      ]
    },
    {
      "cell_type": "code",
      "execution_count": 11,
      "id": "6bea8b4f",
      "metadata": {
        "id": "6bea8b4f"
      },
      "outputs": [],
      "source": [
        "from qiskit import QuantumCircuit, QuantumRegister, ClassicalRegister\n",
        "from qiskit_aer import AerSimulator\n",
        "from math import gcd, log2, pi\n",
        "from fractions import Fraction\n",
        "from random import randint"
      ]
    },
    {
      "cell_type": "code",
      "execution_count": 12,
      "id": "9d526010",
      "metadata": {
        "id": "9d526010"
      },
      "outputs": [],
      "source": [
        "# Define a function to perform Quantum Fourier Transform\n",
        "def qft(circuit, qubits):\n",
        "    n= len(qubits)\n",
        "\n",
        "    # Perform Hadamard and controlled phase rotations\n",
        "    for i in range(n):\n",
        "        circuit.h(qubits[i])\n",
        "        for k in range(i+1, n):\n",
        "            circuit.cp(pi/(2**(k - i)), qubits[k], qubits[i])\n",
        "\n",
        "    # Reverse the order of the qubits\n",
        "    for i in range(n//2):\n",
        "        circuit.swap(qubits[i], qubits[n - i - 1])"
      ]
    },
    {
      "cell_type": "code",
      "execution_count": 13,
      "id": "34654c9f",
      "metadata": {
        "id": "34654c9f"
      },
      "outputs": [],
      "source": [
        "# Define a function to perform Inverse Quantum Fourier Transform\n",
        "def iqft(circuit, qubits):\n",
        "    n= len(qubits)\n",
        "\n",
        "    # Perform the inverse of the operations applied during the Quantum Fourier Transform (in reverse order)\n",
        "    for i in range(n//2):\n",
        "        circuit.swap(qubits[i], qubits[n - i - 1])\n",
        "\n",
        "    for i in reversed(range(n)):\n",
        "        for k in reversed(range(i)):\n",
        "            circuit.cp(-pi/(2**(i - k)), qubits[k], qubits[i])\n",
        "        circuit.h(qubits[i])"
      ]
    },
    {
      "cell_type": "code",
      "source": [
        "# Define a function to perform phase estimation for finding the order of a mod N in Shor's Algorithm\n",
        "def phase_estimation(circuit, control, target, a, N):\n",
        "    n = len(control)\n",
        "\n",
        "    # Apply Hadamard to control\n",
        "    circuit.h(control)\n",
        "\n",
        "    # Initialize target in |1⟩\n",
        "    circuit.x(target[0])\n",
        "\n",
        "    # Fake modular exponentiation loop (for visual/simulated behavior only)\n",
        "    for j in range(n):\n",
        "        mod = pow(a, 2**j, N)\n",
        "        if mod == 0:\n",
        "            continue  # Skip log2(0)\n",
        "        try:\n",
        "            i = int(log2(mod))\n",
        "            if i < len(target):\n",
        "                circuit.cx(control[j], target[i])\n",
        "        except:\n",
        "            continue  # Safe fallback\n",
        "\n",
        "    iqft(circuit, control)"
      ],
      "metadata": {
        "id": "GVOJWz1oS3cH"
      },
      "id": "GVOJWz1oS3cH",
      "execution_count": 14,
      "outputs": []
    },
    {
      "cell_type": "code",
      "execution_count": 24,
      "id": "7a9a2c10",
      "metadata": {
        "colab": {
          "base_uri": "https://localhost:8080/"
        },
        "id": "7a9a2c10",
        "outputId": "98a93ce6-ee51-4534-deab-31e47dff15ab"
      },
      "outputs": [
        {
          "output_type": "stream",
          "name": "stdout",
          "text": [
            "The Prime Factors of 1591 are 43 and 37\n"
          ]
        }
      ],
      "source": [
        "# Factor 1591 = 37 x 43 using Shor's Algorithm\n",
        "flag= False\n",
        "N = 1591\n",
        "while flag is False: # repeat until non- trivial factors are found\n",
        "    a= randint(2, N-1)\n",
        "    if gcd(a, N)!= 1:\n",
        "        continue\n",
        "\n",
        "    control= QuantumRegister(12) # 12 qubits for a high precision\n",
        "    target= QuantumRegister(11) #11 qubits to represent all numbers from 0 to N-1\n",
        "    c= ClassicalRegister(12)\n",
        "    circuit= QuantumCircuit(control, target, c)\n",
        "\n",
        "    phase_estimation(circuit, control, target, a, N)\n",
        "    circuit.measure(control, c)\n",
        "\n",
        "    counts= AerSimulator().run(circuit, shots=1000).result().get_counts()\n",
        "    measured= max(counts, key=counts.get)\n",
        "    phase= int(measured, 2)/(2**12) # convert the binary string to a phase value\n",
        "    r= Fraction(phase).limit_denominator(N).denominator # use continued fractions to estimate r from the measured phase\n",
        "\n",
        "    if r%2== 1: # retry if r is odd\n",
        "        continue\n",
        "\n",
        "    p= gcd(pow(a, r//2)- 1, N)\n",
        "    q= gcd(pow(a, r//2)+ 1, N)\n",
        "\n",
        "    if p== 1 or q== 1 or p== N or q== N: # retry if the factors are non- trivial\n",
        "        continue\n",
        "\n",
        "    print(f\"The Prime Factors of {N} are {p} and {q}\")\n",
        "    flag= True\n"
      ]
    }
  ],
  "metadata": {
    "kernelspec": {
      "display_name": "Python 3",
      "language": "python",
      "name": "python3"
    },
    "language_info": {
      "codemirror_mode": {
        "name": "ipython",
        "version": 3
      },
      "file_extension": ".py",
      "mimetype": "text/x-python",
      "name": "python",
      "nbconvert_exporter": "python",
      "pygments_lexer": "ipython3",
      "version": "3.13.3"
    },
    "colab": {
      "provenance": []
    }
  },
  "nbformat": 4,
  "nbformat_minor": 5
}